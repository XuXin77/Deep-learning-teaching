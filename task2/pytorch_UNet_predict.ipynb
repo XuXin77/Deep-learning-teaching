{
 "cells": [
  {
   "cell_type": "markdown",
   "id": "48b27954",
   "metadata": {},
   "source": [
    "# 基于UNET网络实现SEA_ICE数据语义分割    \n",
    "模型读取和分割 "
   ]
  },
  {
   "cell_type": "code",
   "execution_count": 11,
   "id": "39976250",
   "metadata": {},
   "outputs": [],
   "source": [
    "\n",
    "import os,gc\n",
    "#os.environ['CUDA_VISIBLE_DEVICES']=\"0,1\"\n",
    "import cv2\n",
    "import tqdm\n",
    "import torch\n",
    "import numpy as np\n",
    "import torch.nn as nn\n",
    "from skimage import io\n",
    "import torch.nn.functional as F\n",
    "from torch.hub import load_state_dict_from_url\n",
    "from torch import optim\n",
    "from torch.utils.data import DataLoader\n",
    "from torchvision.utils import save_image\n",
    "from torch.utils.data import Dataset\n",
    "from torchvision import transforms\n",
    "from PIL import Image\n",
    "import matplotlib.pyplot as plt\n",
    "import torchvision\n",
    "from sklearn.metrics import f1_score, precision_score, recall_score\n",
    "\n",
    "transform = transforms.Compose([\n",
    "    transforms.ToTensor()\n",
    "])"
   ]
  },
  {
   "cell_type": "code",
   "execution_count": 12,
   "id": "e1b92ed0",
   "metadata": {},
   "outputs": [],
   "source": [
    "# # 统一图片大小\n",
    "def keep_image_size_open(path, size=(256, 256)):\n",
    "    img = Image.open(path)\n",
    "    temp = max(img.size)\n",
    "    mask = Image.new('RGB', (temp, temp))  #补为方图\n",
    "    mask.paste(img, (0, 0))\n",
    "    mask = mask.resize(size)              #重采样\n",
    "    return mask\n",
    "\n",
    "def keep_label_size_open(path, size=(256, 256)):\n",
    "    img = Image.open(path)\n",
    "    label = np.array(img) \n",
    "    label =label /255\n",
    "    label[label > 0.5] = 255\n",
    "    label[label < 0.5] = 0\n",
    "    label=  np.expand_dims(label,-1)\n",
    "    print(f'qww{label.shape}')\n",
    "    return label\n",
    "\n",
    "#数据读取方法\n",
    "class MyDataset(Dataset):\n",
    "    def __init__(self, path):\n",
    "        self.path = path\n",
    "        self.name = os.listdir(os.path.join(path, 'label'))  #得到文件名\n",
    "\n",
    "    def __len__(self):\n",
    "        return len(self.name)\n",
    "\n",
    "    def __getitem__(self, index):\n",
    "        segment_name = self.name[index]  \n",
    "        label_path = os.path.join(self.path, 'label', segment_name)\n",
    "        image_path = os.path.join(self.path, 'image', segment_name)\n",
    "        \n",
    "        label = keep_label_size_open(label_path)\n",
    "        image = keep_image_size_open(image_path)\n",
    "        \n",
    "        \n",
    "        image = transform(image)\n",
    "        label = transform(label)\n",
    "        return image, label\n",
    "\n",
    "    \n",
    "def train_test_dataset(full_dataset, p):\n",
    "    assert p > 0 and p < 1  \n",
    "    train_size = int(p * len(full_dataset))\n",
    "    test_size = len(full_dataset) - train_size\n",
    "    train_dataset, test_dataset = torch.utils.data.random_split(full_dataset, [train_size, test_size])\n",
    "    return train_dataset, test_dataset"
   ]
  },
  {
   "cell_type": "code",
   "execution_count": 13,
   "id": "9e6e5e60",
   "metadata": {},
   "outputs": [],
   "source": [
    "def plt_predict(per, label):\n",
    "    per = torch.squeeze(per, dim=0)\n",
    "    per = torch.squeeze(per, dim=0)\n",
    "    per = per.cpu().detach().numpy()\n",
    "    #per = per /255\n",
    "    per[per > 0.5] = 255\n",
    "    per[per < 0.5] = 0\n",
    "    \n",
    "    label = torch.squeeze(label, dim=0)\n",
    "    labal = label.cpu().detach().numpy()\n",
    "    \n",
    "    plt.subplot(1,2,1)\n",
    "    plt.imshow(per)\n",
    "    plt.subplot(1,2,2)\n",
    "    plt.imshow(label)\n",
    "    plt.show()\n",
    "    "
   ]
  },
  {
   "cell_type": "code",
   "execution_count": 14,
   "id": "9b925c1b",
   "metadata": {},
   "outputs": [],
   "source": [
    "class Conv_Block(nn.Module):       #卷积块，包括两层卷积，两个RELU，两个BN\n",
    "    def __init__(self,in_channel,out_channel):\n",
    "        super(Conv_Block, self).__init__()\n",
    "        self.layer=nn.Sequential(\n",
    "            nn.Conv2d(in_channel,out_channel,3,1,1,padding_mode='reflect',bias=False),   #若使用BN，则不要有bias \n",
    "            nn.BatchNorm2d(out_channel),\n",
    "            nn.Dropout2d(0.3),\n",
    "            nn.LeakyReLU(),\n",
    "            nn.Conv2d(out_channel, out_channel, 3, 1, 1, padding_mode='reflect', bias=False),\n",
    "            nn.BatchNorm2d(out_channel),\n",
    "            nn.Dropout2d(0.3),\n",
    "            nn.LeakyReLU()\n",
    "        )\n",
    "        \n",
    "    def forward(self,x):\n",
    "        return self.layer(x)\n",
    "\n",
    "\n",
    "class DownSample(nn.Module):         #下采样\n",
    "    def __init__(self,channel):\n",
    "        super(DownSample, self).__init__()\n",
    "        self.layer=nn.Sequential(\n",
    "            nn.Conv2d(channel,channel,3,2,1,padding_mode='reflect',bias=False),\n",
    "            #nn.MaxPool2d(channel,channel,3,2,1,padding_mode='reflect',bias=False),  #Z最大池化可能会丢失信息\n",
    "            nn.BatchNorm2d(channel),\n",
    "            nn.LeakyReLU()\n",
    "        )\n",
    "    def forward(self,x):\n",
    "        return self.layer(x)\n",
    "\n",
    "\n",
    "class UpSample(nn.Module):       # 上采样\n",
    "    def __init__(self,channel):\n",
    "        super(UpSample, self).__init__()\n",
    "        self.layer=nn.Conv2d(channel,channel//2,1,1)       #通道压缩\n",
    "    def forward(self,x,feature_map):                        \n",
    "        up=F.interpolate(x,scale_factor=2,mode='nearest')  #使用最邻近插值法，扩大两倍\n",
    "        out=self.layer(up)\n",
    "        return torch.cat((out,feature_map),dim=1)          #与前面得特征层做堆叠（N,C,H,W）\n",
    "\n",
    "\n",
    "class UNet(nn.Module):\n",
    "    def __init__(self):\n",
    "        super(UNet, self).__init__()\n",
    "        self.c1=Conv_Block(3,64)\n",
    "        self.d1=DownSample(64)\n",
    "        self.c2=Conv_Block(64,128)\n",
    "        self.d2=DownSample(128)\n",
    "        self.c3=Conv_Block(128,256)\n",
    "        self.d3=DownSample(256)\n",
    "        self.c4=Conv_Block(256,512)\n",
    "        self.d4=DownSample(512)\n",
    "        self.c5=Conv_Block(512,1024)\n",
    "        self.u1=UpSample(1024)\n",
    "        self.c6=Conv_Block(1024,512)\n",
    "        self.u2 = UpSample(512)\n",
    "        self.c7 = Conv_Block(512, 256)\n",
    "        self.u3 = UpSample(256)\n",
    "        self.c8 = Conv_Block(256, 128)\n",
    "        self.u4 = UpSample(128)\n",
    "        self.c9 = Conv_Block(128, 64)\n",
    "        self.out=nn.Conv2d(64,1,3,1,1)\n",
    "\n",
    "    def forward(self,x):\n",
    "        #主干特征提取\n",
    "        R1=self.c1(x)\n",
    "        R2=self.c2(self.d1(R1))\n",
    "        R3 = self.c3(self.d2(R2))\n",
    "        R4 = self.c4(self.d3(R3))\n",
    "        R5 = self.c5(self.d4(R4))\n",
    "        \n",
    "        #加强特征提取\n",
    "        O1=self.c6(self.u1(R5,R4))\n",
    "        O2 = self.c7(self.u2(O1, R3))\n",
    "        O3 = self.c8(self.u3(O2, R2))\n",
    "        O4 = self.c9(self.u4(O3, R1))\n",
    "\n",
    "        return self.out(O4)"
   ]
  },
  {
   "cell_type": "markdown",
   "id": "89cb30bc",
   "metadata": {},
   "source": [
    "* 读取权重并预测"
   ]
  },
  {
   "cell_type": "code",
   "execution_count": 15,
   "id": "ba25fd82",
   "metadata": {},
   "outputs": [
    {
     "name": "stdout",
     "output_type": "stream",
     "text": [
      "successfully\n",
      "qww(256, 256, 1)\n"
     ]
    },
    {
     "data": {
      "image/png": "[encoded data removed]",
      "text/plain": [
       "<Figure size 432x288 with 2 Axes>"
      ]
     },
     "metadata": {},
     "output_type": "display_data"
    },
    {
     "name": "stdout",
     "output_type": "stream",
     "text": [
      "qww(256, 256, 1)\n"
     ]
    },
    {
     "data": {
      "image/png": "[encoded data removed]",
      "text/plain": [
       "<Figure size 432x288 with 2 Axes>"
      ]
     },
     "metadata": {},
     "output_type": "display_data"
    },
    {
     "name": "stdout",
     "output_type": "stream",
     "text": [
      "qww(256, 256, 1)\n"
     ]
    },
    {
     "data": {
      "image/png": "[encoded data removed]",
      "text/plain": [
       "<Figure size 432x288 with 2 Axes>"
      ]
     },
     "metadata": {},
     "output_type": "display_data"
    },
    {
     "name": "stdout",
     "output_type": "stream",
     "text": [
      "qww(256, 256, 1)\n"
     ]
    },
    {
     "data": {
      "image/png": "[encoded data removed]",
      "text/plain": [
       "<Figure size 432x288 with 2 Axes>"
      ]
     },
     "metadata": {},
     "output_type": "display_data"
    },
    {
     "name": "stdout",
     "output_type": "stream",
     "text": [
      "qww(256, 256, 1)\n"
     ]
    },
    {
     "data": {
      "image/png": "[encoded data removed]",
      "text/plain": [
       "<Figure size 432x288 with 2 Axes>"
      ]
     },
     "metadata": {},
     "output_type": "display_data"
    }
   ],
   "source": [
    "if __name__ == '__main__':\n",
    "    data_path =r'./sea_ice'\n",
    "    weight_path = os.path.join(data_path,'unet_1.pth')\n",
    "    save_path = 'train_image'\n",
    "    net = UNet()\n",
    "\n",
    "    if os.path.exists(weight_path):\n",
    "        net.load_state_dict(torch.load(weight_path))\n",
    "        print('successfully')\n",
    "    else:\n",
    "        print('no loading')\n",
    "    \n",
    "\n",
    "    data_set =MyDataset(data_path)\n",
    "    \n",
    "    net.eval()\n",
    "    for i in range(5):\n",
    "        img, label = data_set[i] \n",
    "        img =img.unsqueeze(0)\n",
    "        per_label = net(img)\n",
    "        plt_predict(per_label, label)\n",
    "        \n"
   ]
  },
  {
   "cell_type": "code",
   "execution_count": null,
   "id": "55bbf3c1",
   "metadata": {},
   "outputs": [],
   "source": []
  },
  {
   "cell_type": "code",
   "execution_count": null,
   "id": "f1d26d19",
   "metadata": {},
   "outputs": [],
   "source": []
  },
  {
   "cell_type": "code",
   "execution_count": null,
   "id": "04e07bb8",
   "metadata": {},
   "outputs": [],
   "source": []
  }
 ],
 "metadata": {
  "kernelspec": {
   "display_name": "Python 3 (ipykernel)",
   "language": "python",
   "name": "python3"
  },
  "language_info": {
   "codemirror_mode": {
    "name": "ipython",
    "version": 3
   },
   "file_extension": ".py",
   "mimetype": "text/x-python",
   "name": "python",
   "nbconvert_exporter": "python",
   "pygments_lexer": "ipython3",
   "version": "3.9.12"
  }
 },
 "nbformat": 4,
 "nbformat_minor": 5
}
