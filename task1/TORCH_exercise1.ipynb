{
 "cells": [
  {
   "cell_type": "markdown",
   "metadata": {},
   "source": [
    "# 基于TORCH的exercise1\n",
    "通过CNN网络实现MNIST数据集识别"
   ]
  },
  {
   "cell_type": "markdown",
   "metadata": {},
   "source": [
    "* 导入库"
   ]
  },
  {
   "cell_type": "code",
   "execution_count": 24,
   "metadata": {},
   "outputs": [
    {
     "data": {
      "text/plain": [
       "<torch._C.Generator at 0x283458c4f60>"
      ]
     },
     "execution_count": 24,
     "metadata": {},
     "output_type": "execute_result"
    }
   ],
   "source": [
    "import torch \n",
    "import torchvision\n",
    "import torchvision.transforms as transforms\n",
    "import matplotlib.pyplot as plt\n",
    "import torch.nn as nn\n",
    "import numpy as np\n",
    "from torch.autograd import Variable\n",
    "import torch.utils.data as Data_U\n",
    "import matplotlib.pyplot as plt\n",
    "from keras.datasets import mnist   # 获取数据集\n",
    "\n",
    "torch.manual_seed(1)\n",
    "#from torch.utils import data # 获取迭代数据\n",
    "#from torch.autograd import Variable # 获取变量\n",
    "#from torchvision.datasets import mnist # 获取数据集"
   ]
  },
  {
   "cell_type": "markdown",
   "metadata": {},
   "source": [
    "* 获取数据"
   ]
  },
  {
   "cell_type": "code",
   "execution_count": 25,
   "metadata": {},
   "outputs": [],
   "source": [
    "train_data = torchvision.datasets.MNIST(\n",
    "    root='./data/MNIST', #保存位置\n",
    "    train=True, #training set\n",
    "    transform=torchvision.transforms.ToTensor(),#把下载的数据改成Tensor形式  把(0-255)转换成(0-1)\n",
    "    #download=True\n",
    "    download=False\n",
    "    \n",
    "    )\n",
    "test_data = torchvision.datasets.MNIST(root='./data/MNIST')\n",
    "train_loader = Data_U.DataLoader(dataset=train_data, batch_size=128, shuffle=True)\n",
    "\n",
    "\n",
    "\n",
    "#(data_train), (X_test, Y_test) = mnist.load_data()\n",
    "#print(X_train.shape)\n",
    "#confirm the data dimention\n",
    "#print(X_train.shape,X_test.shape) \n",
    "#plt.imshow(X_train[0,:,:],cmap='gray')"
   ]
  },
  {
   "cell_type": "markdown",
   "metadata": {},
   "source": [
    "* 显示数据"
   ]
  },
  {
   "cell_type": "code",
   "execution_count": 26,
   "metadata": {},
   "outputs": [
    {
     "name": "stdout",
     "output_type": "stream",
     "text": [
      "torch.Size([60000, 28, 28])\n",
      "torch.Size([60000])\n"
     ]
    },
    {
     "name": "stderr",
     "output_type": "stream",
     "text": [
      "D:\\Anaconda\\lib\\site-packages\\torchvision\\datasets\\mnist.py:62: UserWarning: train_data has been renamed data\n",
      "  warnings.warn(\"train_data has been renamed data\")\n",
      "D:\\Anaconda\\lib\\site-packages\\torchvision\\datasets\\mnist.py:52: UserWarning: train_labels has been renamed targets\n",
      "  warnings.warn(\"train_labels has been renamed targets\")\n"
     ]
    },
    {
     "data": {
      "image/png": "[encoded data removed]",
      "text/plain": [
       "<Figure size 432x288 with 1 Axes>"
      ]
     },
     "metadata": {},
     "output_type": "display_data"
    }
   ],
   "source": [
    "##呈现数据\n",
    "print(train_data.train_data.size()) #(60000,28,28)\n",
    "print(train_data.train_labels.size()) #(60000)\n",
    "plt.imshow(train_data.train_data[0].numpy(),cmap = 'gray')\n",
    "plt.title('%i' %train_data.train_labels[0])\n",
    "plt.show()\n"
   ]
  },
  {
   "cell_type": "markdown",
   "metadata": {},
   "source": [
    "* 测试数据预处理 "
   ]
  },
  {
   "cell_type": "code",
   "execution_count": 27,
   "metadata": {},
   "outputs": [
    {
     "name": "stderr",
     "output_type": "stream",
     "text": [
      "D:\\Anaconda\\lib\\site-packages\\ipykernel_launcher.py:1: UserWarning: volatile was removed and now has no effect. Use `with torch.no_grad():` instead.\n",
      "  \"\"\"Entry point for launching an IPython kernel.\n"
     ]
    }
   ],
   "source": [
    "test_x = Variable(torch.unsqueeze(test_data.data, dim=1), volatile=True).type(torch.FloatTensor)[:2000]/255.  #测试集处理\n",
    "test_y = test_data.targets[:2000]\n",
    "\n",
    "#X_tr_tensor = transf(X_train)\n",
    "#Y_tr_tensor = transf(Y_train)\n",
    "#X_ts_tensor = transf(X_test)\n",
    "#Y_ts_tensor = transf(Y_test)\n",
    "\n",
    "#tr_dataset = Data.TensorDataset(X_tr_tensor,Y_tr_tensor) #把训练数据集合成一块\n",
    "#tr_dataset = torchvision.(X_train) #把训练数据集合成一块\n",
    "#y_train = to_categorical(y_train, num_classes=10)\n",
    "#y_test = to_categorical(y_test, num_classes=10)"
   ]
  },
  {
   "cell_type": "markdown",
   "metadata": {},
   "source": [
    "* 搭建CNN"
   ]
  },
  {
   "cell_type": "code",
   "execution_count": 28,
   "metadata": {},
   "outputs": [],
   "source": [
    "class CNN(nn.Module):\n",
    "    def __init__(self):\n",
    "        super(CNN, self).__init__()\n",
    "        self.lin1 =  nn.Linear(784,128)\n",
    "        self.lin2 =  nn.Linear(128,64)\n",
    "        self.lin3 =  nn.Linear(64,32)\n",
    "        self.lin4 = nn.Linear(32,10)\n",
    "        self.relu = nn.ReLU()\n",
    "        self.soft = nn.Softmax()\n",
    "        self.dropout = nn.Dropout(p=0.2) \n",
    "        nn.Softmax()\n",
    "            \n",
    "    def forward(self, x):\n",
    "        x = x.view(-1, 784) \n",
    "        x = self.lin1(x)\n",
    "        x = x.view(-1, 128) \n",
    "        x = self.lin2(x)\n",
    "         \n",
    "       # x = self.relu(x)\n",
    "        x = x.view(-1, 64)\n",
    "        x = self.lin3(x)\n",
    "        \n",
    "        x = x.view(-1,32)\n",
    "        #x = self.relu(x) \n",
    "        x = self.lin4(x)\n",
    "        x = self.relu(x) \n",
    "        x = self.soft(x)\n",
    "        x = x.view(x.size(0), -1)\n",
    "        output = self.dropout(x)\n",
    "        return output"
   ]
  },
  {
   "cell_type": "markdown",
   "metadata": {},
   "source": [
    "* 训练模型\n",
    " "
   ]
  },
  {
   "cell_type": "code",
   "execution_count": 29,
   "metadata": {},
   "outputs": [
    {
     "name": "stdout",
     "output_type": "stream",
     "text": [
      "CNN(\n",
      "  (lin1): Linear(in_features=784, out_features=128, bias=True)\n",
      "  (lin2): Linear(in_features=128, out_features=64, bias=True)\n",
      "  (lin3): Linear(in_features=64, out_features=32, bias=True)\n",
      "  (lin4): Linear(in_features=32, out_features=10, bias=True)\n",
      "  (relu): ReLU()\n",
      "  (soft): Softmax(dim=None)\n",
      "  (dropout): Dropout(p=0.2, inplace=False)\n",
      ")\n"
     ]
    }
   ],
   "source": [
    "cnn = CNN()\n",
    "print(cnn)   #显示结构\n",
    "# optimizer = torch.optim.RMSprop(cnn.parameters(), lr=0.0001, alpha=0.9, eps=1e-08, weight_decay=0)\n",
    "optimizer = torch.optim.Adam(cnn.parameters(), lr=0.0001)\n",
    "loss_func = nn.CrossEntropyLoss()"
   ]
  },
  {
   "cell_type": "markdown",
   "metadata": {},
   "source": [
    "* 训练模型过程"
   ]
  },
  {
   "cell_type": "code",
   "execution_count": 30,
   "metadata": {},
   "outputs": [
    {
     "name": "stderr",
     "output_type": "stream",
     "text": [
      "D:\\Anaconda\\lib\\site-packages\\ipykernel_launcher.py:27: UserWarning: Implicit dimension choice for softmax has been deprecated. Change the call to include dim=X as an argument.\n"
     ]
    }
   ],
   "source": [
    "#train_loader = Data_U.DataLoader(dataset=data_train, batch_size=128, shuffle=True)\n",
    "\n",
    "for epoch in range(10):\n",
    "    for i, (x, y) in enumerate(train_loader):\n",
    "    #for i, (x, y) in enumerate(X_train, Y_train):\n",
    "        batch_x = Variable(x)\n",
    "        batch_y = Variable(y)\n",
    "         #输入训练数据\n",
    "        output = cnn(batch_x)\n",
    "         #计算误差\n",
    "        loss = loss_func(output, batch_y)\n",
    "         #清空上一次梯度\n",
    "        optimizer.zero_grad()\n",
    "         #误差反向传递\n",
    "        loss.backward()\n",
    "         #优化器参数更新\n",
    "        optimizer.step()"
   ]
  },
  {
   "cell_type": "markdown",
   "metadata": {},
   "source": [
    "* 模型预测"
   ]
  },
  {
   "cell_type": "code",
   "execution_count": 31,
   "metadata": {
    "scrolled": false
   },
   "outputs": [
    {
     "name": "stderr",
     "output_type": "stream",
     "text": [
      "D:\\Anaconda\\lib\\site-packages\\ipykernel_launcher.py:27: UserWarning: Implicit dimension choice for softmax has been deprecated. Change the call to include dim=X as an argument.\n"
     ]
    },
    {
     "name": "stdout",
     "output_type": "stream",
     "text": [
      "[3 0 0 1 9 2 1 3 9 4] prediction number\n",
      "[5 0 4 1 9 2 1 3 1 4] real number\n"
     ]
    }
   ],
   "source": [
    "#test_output =cnn(X_ts_tensor[:10])\n",
    "test_output =cnn(test_x[:10])\n",
    "pred_y = torch.max(test_output,1)[1].data.numpy().squeeze()\n",
    "print(pred_y, 'prediction number')          #预测值\n",
    "print(test_y[:10].numpy(),'real number')    #真实值"
   ]
  },
  {
   "cell_type": "markdown",
   "metadata": {},
   "source": [
    "* 模型保存"
   ]
  },
  {
   "cell_type": "code",
   "execution_count": 32,
   "metadata": {},
   "outputs": [],
   "source": [
    "torch.save(cnn,'net.pkl')\n",
    "torch.save(cnn.state_dict(),'net_parameter.pkl')"
   ]
  }
 ],
 "metadata": {
  "kernelspec": {
   "display_name": "Python 3 (ipykernel)",
   "language": "python",
   "name": "python3"
  },
  "language_info": {
   "codemirror_mode": {
    "name": "ipython",
    "version": 3
   },
   "file_extension": ".py",
   "mimetype": "text/x-python",
   "name": "python",
   "nbconvert_exporter": "python",
   "pygments_lexer": "ipython3",
   "version": "3.9.12"
  }
 },
 "nbformat": 4,
 "nbformat_minor": 2
}
