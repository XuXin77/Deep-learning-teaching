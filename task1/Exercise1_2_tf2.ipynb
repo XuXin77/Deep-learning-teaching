{
 "cells": [
  {
   "cell_type": "markdown",
   "metadata": {},
   "source": [
    "# 练习任务2：学习纯numpy构建神经网络，学习卷积机理"
   ]
  },
  {
   "cell_type": "markdown",
   "metadata": {},
   "source": [
    "MLP结构如下图所示，input层是输入层，Layer[1]到Layer[L-1]是隐层,Layer[L]是输出层，层与层之前每两两个单元（神经元或者输出/输入单元）之间存在连接，代表着一个权重，参考文献[点击我](https://mattmazur.com/2015/03/17/a-step-by-step-backpropagation-example/)"
   ]
  },
  {
   "cell_type": "markdown",
   "metadata": {},
   "source": [
    "![MLP结构示意图](https://img-blog.csdnimg.cn/20190325155921920.png?x-oss-process=image/watermark,type_ZmFuZ3poZW5naGVpdGk,shadow_10,text_aHR0cHM6Ly9ibG9nLmNzZG4ubmV0L3FxXzM3NjY3MzY0,size_16,color_FFFFFF,t_70)\n",
    "![MLP结构示意图2](https://img-blog.csdnimg.cn/20190325155931428.png?x-oss-process=image/watermark,type_ZmFuZ3poZW5naGVpdGk,shadow_10,text_aHR0cHM6Ly9ibG9nLmNzZG4ubmV0L3FxXzM3NjY3MzY0,size_16,color_FFFFFF,t_70)"
   ]
  },
  {
   "cell_type": "code",
   "execution_count": 23,
   "metadata": {},
   "outputs": [],
   "source": [
    "import numpy as np"
   ]
  },
  {
   "cell_type": "code",
   "execution_count": 24,
   "metadata": {},
   "outputs": [],
   "source": [
    "def softmax(a):\n",
    "    exp_a = np.exp(a)\n",
    "    sum_exp_a = np.sum(exp_a)\n",
    "    return exp_a/sum_exp_a\n",
    "\n",
    "def tanh(x):\n",
    "    y = (np.exp(x)-np.exp(-x))/(np.exp(x)+np.exp(-x))\n",
    "    return y\n",
    "\n",
    "def relu(x):\n",
    "    return np.where(x<0,0,x)\n",
    "\n",
    "def sigmoid(x):\n",
    "    return 1 / (1 + np.exp(-x))\n",
    "\n",
    "def Dsigmoid(x):\n",
    "    return sigmoid(x)*(1-sigmoid(x))\n",
    "\n",
    "def onehot(targets, num):\n",
    "    result = np.zeros((num, 10))\n",
    "    for i in range(num):\n",
    "        result[i][targets[i]] = 1\n",
    "    return result"
   ]
  },
  {
   "cell_type": "code",
   "execution_count": 25,
   "metadata": {},
   "outputs": [],
   "source": [
    "class NN(object):\n",
    "    def __init__(self,k_in,k_h,k_out,batch_size,lr):\n",
    "        self.lr = lr                                        # learning rate\n",
    "        self.W1 = np.random.randn(k_in,k_h) * 0.01             # initialize\n",
    "        self.b1 = np.random.randn(k_h) * 0.01\n",
    "        self.W2 = np.random.randn(k_h, k_out) * 0.01\n",
    "        self.b2 = np.random.randn(k_out) * 0.01\n",
    "        self.bs = batch_size\n",
    "        print(self.W1.shape,self.b1.shape,self.W2.shape,self.b2.shape)\n",
    "    \n",
    "    # forward\n",
    "    def forward(self, X, y):\n",
    "        self.X = X                                           # m x 784\n",
    "        self.z1 = np.dot(X, self.W1) + self.b1               # m x 500, the hidden layer\n",
    "        self.a1 = sigmoid(self.z1)                           # m x 500, the hidden layer\n",
    "        self.z2 = np.dot(self.a1, self.W2) + self.b2         # m x 10\n",
    "        self.a2 = sigmoid(self.z2)                           # m x 10\n",
    "        loss = np.sum((self.a2 - y) * (self.a2 - y)) / 2     # msq\n",
    "        self.d2 = (self.a2 - y) * Dsigmoid(self.z2)          # m x 10 \n",
    "        return loss, self.a2\n",
    "\n",
    "    # backword\n",
    "    def backward(self):\n",
    "        dW2 = np.dot(self.a1.T, self.d2) / self.bs                  # 500 x 10\n",
    "        db2 = np.sum(self.d2, axis=0) / self.bs                     # 10\n",
    "        d1 = np.dot(self.d2, self.W2.T) * Dsigmoid(self.z1)         # m x 500\n",
    "        dW1 = np.dot(self.X.T, d1) / self.bs                        # 784x 500\n",
    "        db1 = np.sum(d1, axis=0) / self.bs                          # 500\n",
    "\n",
    "        self.W2 -= self.lr * dW2\n",
    "        self.b2 -= self.lr * db2\n",
    "        self.W1 -= self.lr * dW1\n",
    "        self.b1 -= self.lr * db1"
   ]
  },
  {
   "cell_type": "code",
   "execution_count": 26,
   "metadata": {},
   "outputs": [],
   "source": [
    "def train(k_in,k_h,k_out,batch_size,lr,epochs):\n",
    "    nn = NN(k_in,k_h,k_out,batch_size,lr)\n",
    "    eval_ = {'cost': [], 'train_acc': [], 'valid_acc': []}\n",
    "\n",
    "    for epoch in range(epochs):\n",
    "        for i in range(0, X_train.shape[0], batch_size):\n",
    "            X = X_train[i:i + batch_size]\n",
    "            y = y_train[i:i + batch_size]\n",
    "            # print(X.shape,y.shape)\n",
    "            loss, _ = nn.forward(X, y)\n",
    "            nn.backward()\n",
    "        print(\"Epoch:\", epoch, \">>>>>>>>>\", \"Loss： {:.3f}\".format(loss))\n",
    "        np.savez(\"data.npz\", w1=nn.W1, b1=nn.b1, w2=nn.W2, b2=nn.b2)\n",
    "        eval_['cost'].append(loss)\n",
    "    return eval_\n",
    "\n",
    "def test():\n",
    "    r = np.load(\"data.npz\")\n",
    "    nn = NN(k_in,k_h,k_out,batch_size,lr)\n",
    "    nn.W1 = r[\"w1\"]\n",
    "    nn.b1 = r[\"b1\"]\n",
    "    nn.W2 = r[\"w2\"]\n",
    "    nn.b2 = r[\"b2\"]\n",
    "    _, result = nn.forward(X_valid, y_valid)\n",
    "    result = np.argmax(result, axis=1)\n",
    "    precison = np.sum(result==Y_valid) /X_valid.shape[0]\n",
    "    print(\"Val Precison:\", precison)\n",
    "    \n",
    "def plotfunc(epochs,eval_):\n",
    "    plt.plot(range(epochs), eval_['cost'])\n",
    "    plt.ylabel('Cost')\n",
    "    plt.xlabel('Epochs')\n",
    "    # plt.savefig('images/05_03.png', dpi=300)\n",
    "    plt.show()"
   ]
  },
  {
   "cell_type": "code",
   "execution_count": 27,
   "metadata": {},
   "outputs": [
    {
     "name": "stdout",
     "output_type": "stream",
     "text": [
      "(60000, 784) (60000, 10) (10000, 784) (10000,)\n",
      "1.0 1.0\n"
     ]
    }
   ],
   "source": [
    "from tensorflow.keras.datasets import mnist\n",
    "import sys\n",
    "from matplotlib import pyplot as plt\n",
    "(X_train, Y_train), (X_valid, Y_valid) = mnist.load_data()\n",
    "X_train=X_train.reshape(60000, 28*28) / 255. \n",
    "X_valid=X_valid.reshape(10000, 28*28) / 255. \n",
    "y_train = onehot(Y_train, 60000) # (60000, 10)\n",
    "y_valid = onehot(Y_valid, 10000) # (10000, 10)\n",
    "print(X_train.shape,y_train.shape,X_valid.shape,Y_valid.shape)\n",
    "print(np.max(X_train),np.max(X_valid))"
   ]
  },
  {
   "cell_type": "code",
   "execution_count": 28,
   "metadata": {},
   "outputs": [
    {
     "name": "stdout",
     "output_type": "stream",
     "text": [
      "(784, 500) (500,) (500, 10) (10,)\n",
      "Epoch: 0 >>>>>>>>> Loss： 85.607\n",
      "Epoch: 1 >>>>>>>>> Loss： 48.278\n",
      "Epoch: 2 >>>>>>>>> Loss： 29.897\n",
      "Epoch: 3 >>>>>>>>> Loss： 21.644\n",
      "Epoch: 4 >>>>>>>>> Loss： 17.414\n",
      "Epoch: 5 >>>>>>>>> Loss： 15.033\n",
      "Epoch: 6 >>>>>>>>> Loss： 13.503\n",
      "Epoch: 7 >>>>>>>>> Loss： 12.405\n",
      "Epoch: 8 >>>>>>>>> Loss： 11.573\n",
      "Epoch: 9 >>>>>>>>> Loss： 10.919\n",
      "Epoch: 10 >>>>>>>>> Loss： 10.388\n",
      "Epoch: 11 >>>>>>>>> Loss： 9.944\n",
      "Epoch: 12 >>>>>>>>> Loss： 9.564\n",
      "Epoch: 13 >>>>>>>>> Loss： 9.231\n",
      "Epoch: 14 >>>>>>>>> Loss： 8.935\n",
      "Epoch: 15 >>>>>>>>> Loss： 8.666\n",
      "Epoch: 16 >>>>>>>>> Loss： 8.418\n",
      "Epoch: 17 >>>>>>>>> Loss： 8.188\n",
      "Epoch: 18 >>>>>>>>> Loss： 7.971\n",
      "Epoch: 19 >>>>>>>>> Loss： 7.764\n"
     ]
    },
    {
     "data": {
      "image/png": "[encoded data removed]",
      "text/plain": [
       "<Figure size 432x288 with 1 Axes>"
      ]
     },
     "metadata": {
      "needs_background": "light"
     },
     "output_type": "display_data"
    },
    {
     "name": "stdout",
     "output_type": "stream",
     "text": [
      "(784, 500) (500,) (500, 10) (10,)\n",
      "Val Precison: 0.9171\n"
     ]
    }
   ],
   "source": [
    "if __name__ == '__main__':\n",
    "    k_in=X_train.shape[1]\n",
    "    k_h=500\n",
    "    k_out=len(np.unique(Y_valid))\n",
    "    batch_size=200\n",
    "    epochs=20\n",
    "    lr=0.5\n",
    "    eval_=train(k_in,k_h,k_out,batch_size,lr,epochs)\n",
    "    plotfunc(epochs,eval_)\n",
    "    test()"
   ]
  }
 ],
 "metadata": {
  "interpreter": {
   "hash": "9387e9e37a0af8fff0fcbade4737076ebc87d0c8fec44545ee3d2fd05cdc73df"
  },
  "kernelspec": {
   "display_name": "Python 3.8.8 64-bit ('base': conda)",
   "name": "python3"
  },
  "language_info": {
   "codemirror_mode": {
    "name": "ipython",
    "version": 3
   },
   "file_extension": ".py",
   "mimetype": "text/x-python",
   "name": "python",
   "nbconvert_exporter": "python",
   "pygments_lexer": "ipython3",
   "version": "3.8.8"
  },
  "orig_nbformat": 4
 },
 "nbformat": 4,
 "nbformat_minor": 2
}
