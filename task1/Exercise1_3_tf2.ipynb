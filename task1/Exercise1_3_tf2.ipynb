{
 "cells": [
  {
   "cell_type": "markdown",
   "metadata": {},
   "source": [
    "# 练习任务3：用二维卷积构建网络实现对手写图片的分类"
   ]
  },
  {
   "cell_type": "markdown",
   "metadata": {},
   "source": [
    "## 1. 训练模型"
   ]
  },
  {
   "cell_type": "markdown",
   "metadata": {},
   "source": [
    "* step1 加载必要的库函数"
   ]
  },
  {
   "cell_type": "code",
   "execution_count": 33,
   "metadata": {},
   "outputs": [],
   "source": [
    "# for tf2.0\n",
    "import numpy as np\n",
    "from tensorflow.keras.datasets import mnist\n",
    "from tensorflow.keras.utils import to_categorical\n",
    "from tensorflow.keras.models import Sequential, Model, load_model\n",
    "from tensorflow.keras.layers import Dense, Activation, Conv2D, Input, MaxPooling2D, Flatten, Dropout\n",
    "from tensorflow.keras.optimizers import RMSprop\n",
    "import matplotlib.pyplot as plt\n",
    "from PIL import Image\n",
    "import os"
   ]
  },
  {
   "cell_type": "markdown",
   "metadata": {},
   "source": [
    "* step2 minist数据在keras中自带，可以通过网络加载"
   ]
  },
  {
   "cell_type": "code",
   "execution_count": 2,
   "metadata": {},
   "outputs": [
    {
     "name": "stdout",
     "output_type": "stream",
     "text": [
      "(60000, 28, 28)\n"
     ]
    }
   ],
   "source": [
    "(X_train, y_train), (X_test, y_test) = mnist.load_data()\n",
    "print(X_train.shape)"
   ]
  },
  {
   "cell_type": "code",
   "execution_count": 3,
   "metadata": {},
   "outputs": [
    {
     "name": "stdout",
     "output_type": "stream",
     "text": [
      "(60000, 28, 28) (10000, 28, 28)\n"
     ]
    },
    {
     "data": {
      "text/plain": [
       "<matplotlib.image.AxesImage at 0x16780755d30>"
      ]
     },
     "execution_count": 3,
     "metadata": {},
     "output_type": "execute_result"
    },
    {
     "data": {
      "image/png": "[encoded data removed]",
      "text/plain": [
       "<Figure size 432x288 with 1 Axes>"
      ]
     },
     "metadata": {
      "needs_background": "light"
     },
     "output_type": "display_data"
    }
   ],
   "source": [
    "#confirm the data dimention\n",
    "print(X_train.shape, X_test.shape) \n",
    "plt.imshow(X_train[1,:,:],cmap='gray')"
   ]
  },
  {
   "cell_type": "markdown",
   "metadata": {},
   "source": [
    "* step3 标准化处理"
   ]
  },
  {
   "cell_type": "code",
   "execution_count": 4,
   "metadata": {
    "collapsed": true
   },
   "outputs": [
    {
     "name": "stdout",
     "output_type": "stream",
     "text": [
      "(60000, 28, 28, 1) (10000, 28, 28, 1)\n"
     ]
    }
   ],
   "source": [
    "# data pre-processing\n",
    "X_train = X_train.reshape(-1, 28, 28, 1)/255\n",
    "X_test = X_test.reshape(-1, 28, 28, 1)/255\n",
    "\n",
    "y_train = to_categorical(y_train, num_classes=10)\n",
    "y_test = to_categorical(y_test, num_classes=10)\n",
    "print(X_train.shape, X_test.shape)"
   ]
  },
  {
   "cell_type": "markdown",
   "metadata": {},
   "source": [
    "* step4 构建CNN网络"
   ]
  },
  {
   "cell_type": "code",
   "execution_count": 38,
   "metadata": {
    "collapsed": true
   },
   "outputs": [],
   "source": [
    "# model-sequential\n",
    "model = Sequential([\n",
    "    Conv2D(32, 3, strides=(1, 1), padding='same',activation=\"relu\"),\n",
    "    Conv2D(32, 3, strides=(1, 1), padding='same',activation=\"relu\"),\n",
    "    Conv2D(32, 3, strides=(1, 1), padding='same',activation=\"relu\"),\n",
    "    MaxPooling2D(pool_size=(2, 2),strides=(2, 2), padding='same'),\n",
    "\n",
    "    Conv2D(64, 3, strides=(1, 1), padding='same',activation=\"relu\"),\n",
    "    Conv2D(64, 3, strides=(1, 1), padding='same',activation=\"relu\"),\n",
    "    Conv2D(64, 3, strides=(1, 1), padding='same',activation=\"relu\"),\n",
    "    MaxPooling2D(pool_size=(2, 2),strides=(2, 2), padding='same'),\n",
    "    \n",
    "    Flatten(),\n",
    "    Dense(1024, activation='relu'),\n",
    "    Dropout(0.5),\n",
    "    Dense(10),\n",
    "    Activation('softmax')\n",
    "])"
   ]
  },
  {
   "cell_type": "code",
   "execution_count": 34,
   "metadata": {},
   "outputs": [
    {
     "name": "stdout",
     "output_type": "stream",
     "text": [
      "Model: \"model_2\"\n",
      "_________________________________________________________________\n",
      "Layer (type)                 Output Shape              Param #   \n",
      "=================================================================\n",
      "input_5 (InputLayer)         [(None, 28, 28, 1)]       0         \n",
      "_________________________________________________________________\n",
      "conv2d_48 (Conv2D)           (None, 28, 28, 32)        320       \n",
      "_________________________________________________________________\n",
      "conv2d_49 (Conv2D)           (None, 28, 28, 32)        9248      \n",
      "_________________________________________________________________\n",
      "conv2d_50 (Conv2D)           (None, 28, 28, 32)        9248      \n",
      "_________________________________________________________________\n",
      "max_pooling2d_16 (MaxPooling (None, 14, 14, 32)        0         \n",
      "_________________________________________________________________\n",
      "conv2d_51 (Conv2D)           (None, 14, 14, 64)        18496     \n",
      "_________________________________________________________________\n",
      "conv2d_52 (Conv2D)           (None, 14, 14, 64)        36928     \n",
      "_________________________________________________________________\n",
      "conv2d_53 (Conv2D)           (None, 14, 14, 64)        36928     \n",
      "_________________________________________________________________\n",
      "max_pooling2d_17 (MaxPooling (None, 7, 7, 64)          0         \n",
      "_________________________________________________________________\n",
      "flatten_8 (Flatten)          (None, 3136)              0         \n",
      "_________________________________________________________________\n",
      "dense_12 (Dense)             (None, 1024)              3212288   \n",
      "_________________________________________________________________\n",
      "dropout (Dropout)            (None, 1024)              0         \n",
      "_________________________________________________________________\n",
      "dense_13 (Dense)             (None, 10)                10250     \n",
      "=================================================================\n",
      "Total params: 3,333,706\n",
      "Trainable params: 3,333,706\n",
      "Non-trainable params: 0\n",
      "_________________________________________________________________\n"
     ]
    }
   ],
   "source": [
    "# model-function\n",
    "inputs = Input(shape=( 28, 28, 1))\n",
    "x = Conv2D(32, 3, strides=(1, 1), padding='same',activation=\"relu\")(inputs)\n",
    "x = Conv2D(32, 3, strides=(1, 1), padding='same',activation=\"relu\")(x)\n",
    "x = Conv2D(32, 3, strides=(1, 1), padding='same',activation=\"relu\")(x)\n",
    "x = MaxPooling2D(pool_size=(2, 2),strides=(2, 2), padding='same')(x)\n",
    "\n",
    "x = Conv2D(64, 3, strides=(1, 1), padding='same',activation=\"relu\")(x)\n",
    "x = Conv2D(64, 3, strides=(1, 1), padding='same',activation=\"relu\")(x)\n",
    "x = Conv2D(64, 3, strides=(1, 1), padding='same',activation=\"relu\")(x)\n",
    "x = MaxPooling2D(pool_size=(2, 2),strides=(2, 2), padding='same')(x)\n",
    "\n",
    "x = Flatten()(x)\n",
    "x = Dense(1024, activation='relu')(x)\n",
    "x = Dropout(0.5)(x)\n",
    "x = Dense(10, activation='softmax')(x)\n",
    "model=Model(inputs, x)\n",
    "model.summary()"
   ]
  },
  {
   "cell_type": "markdown",
   "metadata": {},
   "source": [
    "* setp5 训练模型"
   ]
  },
  {
   "cell_type": "code",
   "execution_count": 36,
   "metadata": {
    "collapsed": true
   },
   "outputs": [],
   "source": [
    "# Another way to define your optimizer\n",
    "rmsprop = RMSprop(learning_rate=0.0001, rho=0.9, epsilon=1e-08, decay=0.0)\n",
    "# We add metrics to get more results you want to see\n",
    "model.compile(optimizer=rmsprop,loss='categorical_crossentropy',metrics=['accuracy'])"
   ]
  },
  {
   "cell_type": "code",
   "execution_count": 37,
   "metadata": {},
   "outputs": [
    {
     "name": "stdout",
     "output_type": "stream",
     "text": [
      "Training ------------\n",
      "Epoch 1/10\n",
      "469/469 [==============================] - 9s 17ms/step - loss: 0.3619 - accuracy: 0.8931 - val_loss: 0.0821 - val_accuracy: 0.9736\n",
      "Epoch 2/10\n",
      "469/469 [==============================] - 7s 16ms/step - loss: 0.0882 - accuracy: 0.9729 - val_loss: 0.0435 - val_accuracy: 0.9853\n",
      "Epoch 3/10\n",
      "469/469 [==============================] - 7s 16ms/step - loss: 0.0595 - accuracy: 0.9815 - val_loss: 0.0335 - val_accuracy: 0.9882\n",
      "Epoch 4/10\n",
      "469/469 [==============================] - 7s 16ms/step - loss: 0.0448 - accuracy: 0.9860 - val_loss: 0.0348 - val_accuracy: 0.9876\n",
      "Epoch 5/10\n",
      "469/469 [==============================] - 7s 16ms/step - loss: 0.0372 - accuracy: 0.9885 - val_loss: 0.0311 - val_accuracy: 0.9882\n",
      "Epoch 6/10\n",
      "469/469 [==============================] - 8s 16ms/step - loss: 0.0315 - accuracy: 0.9907 - val_loss: 0.0220 - val_accuracy: 0.9921\n",
      "Epoch 7/10\n",
      "469/469 [==============================] - 7s 16ms/step - loss: 0.0264 - accuracy: 0.9922 - val_loss: 0.0272 - val_accuracy: 0.9903\n",
      "Epoch 8/10\n",
      "469/469 [==============================] - 8s 16ms/step - loss: 0.0244 - accuracy: 0.9927 - val_loss: 0.0225 - val_accuracy: 0.9916\n",
      "Epoch 9/10\n",
      "469/469 [==============================] - 8s 16ms/step - loss: 0.0205 - accuracy: 0.9936 - val_loss: 0.0206 - val_accuracy: 0.9925\n",
      "Epoch 10/10\n",
      "469/469 [==============================] - 8s 16ms/step - loss: 0.0185 - accuracy: 0.9942 - val_loss: 0.0206 - val_accuracy: 0.9924\n"
     ]
    },
    {
     "data": {
      "text/plain": [
       "<keras.callbacks.History at 0x16d50ba3630>"
      ]
     },
     "execution_count": 37,
     "metadata": {},
     "output_type": "execute_result"
    }
   ],
   "source": [
    "print('Training ------------')\n",
    "# Another way to train the model\n",
    "model.fit(X_train, y_train, epochs=10, verbose=1, shuffle=True, batch_size=128, validation_data=(X_test, y_test))"
   ]
  },
  {
   "cell_type": "code",
   "execution_count": 22,
   "metadata": {},
   "outputs": [
    {
     "name": "stdout",
     "output_type": "stream",
     "text": [
      "(100, 10)\n",
      "[[  0.   0.   0.   0.   0.   0.   0. 100.   0.   0.]] 2\n"
     ]
    },
    {
     "data": {
      "image/png": "[encoded data removed]",
      "text/plain": [
       "<Figure size 432x288 with 1 Axes>"
      ]
     },
     "metadata": {
      "needs_background": "light"
     },
     "output_type": "display_data"
    }
   ],
   "source": [
    "# test the model \n",
    "testdata = X_test[:100]\n",
    "# get the probability value\n",
    "pred = model.predict(testdata, batch_size=20)\n",
    "# get the classification value\n",
    "pred_c = np.argmax(pred, axis=1)\n",
    "# pred_c=model.predict_classes(testdata, batch_size=20)\n",
    "print(pred.shape)\n",
    "reshapedata = testdata.reshape(-1,28,28)\n",
    "plt.imshow(reshapedata[1,:,:])\n",
    "print(np.round(pred[:1]*100), pred_c[1])"
   ]
  },
  {
   "cell_type": "markdown",
   "metadata": {
    "collapsed": true
   },
   "source": [
    "* setp5保存模型"
   ]
  },
  {
   "cell_type": "code",
   "execution_count": 10,
   "metadata": {},
   "outputs": [],
   "source": [
    "model.save('./mnist.h5')"
   ]
  },
  {
   "cell_type": "markdown",
   "metadata": {},
   "source": []
  },
  {
   "cell_type": "markdown",
   "metadata": {},
   "source": [
    "## 2.用训练好的模型识别手写数字"
   ]
  },
  {
   "cell_type": "markdown",
   "metadata": {},
   "source": [
    "* step1 下载训练好的模型"
   ]
  },
  {
   "cell_type": "code",
   "execution_count": 11,
   "metadata": {},
   "outputs": [],
   "source": [
    "model = load_model('./mnist.h5')"
   ]
  },
  {
   "cell_type": "markdown",
   "metadata": {},
   "source": [
    "* step2 处理手写数字"
   ]
  },
  {
   "cell_type": "code",
   "execution_count": 12,
   "metadata": {},
   "outputs": [],
   "source": [
    "def produceImage(file_in, width, height):\n",
    "    \"\"\"将原图转换为 28 *28（width * height） 图片\"\"\"\n",
    "    image = Image.open(file_in)\n",
    "    resized_image = image.resize((width, height), Image.ANTIALIAS)\n",
    "    return resized_image\n",
    "\n",
    "\n",
    "\n",
    "def produceMatrix(resized_image, width, height):\n",
    "    \"\"\"用转换后的图先生成一张灰度图，再用灰度图生成 ndarray（28*28） \"\"\"\n",
    "    image = resized_image.convert(\"L\")  # 将 RGB 图片转换为 灰度（L） 图片\n",
    "    # image.show()  # 打印图片\n",
    "    data = image.getdata()\n",
    "    data = np.array(data)\n",
    "    data = np.reshape(data, (width, height))\n",
    "    # print(data)  # 打印生成的 array\n",
    "    return (255-data)/255 # 和训练数据格式一致"
   ]
  },
  {
   "cell_type": "markdown",
   "metadata": {},
   "source": [
    "* step3 预测手写数字"
   ]
  },
  {
   "cell_type": "code",
   "execution_count": 13,
   "metadata": {},
   "outputs": [],
   "source": [
    "def predict_name(file):\n",
    "    file_in = file # 传入手写的数字图片的地址\n",
    "    width = 28  # 修改后的宽\n",
    "    height = 28  # 修改后的高\n",
    "    resized_image = produceImage(file_in, width, height)\n",
    "    data = produceMatrix(resized_image, width, height)\n",
    "    data_norm = data.reshape(-1, 28, 28, 1)\n",
    "    # 预测手写数字\n",
    "    predict = model.predict(data_norm)\n",
    "    predict = np.argmax(predict, 1)\n",
    "    return predict, data"
   ]
  },
  {
   "cell_type": "code",
   "execution_count": 14,
   "metadata": {},
   "outputs": [],
   "source": [
    "rootdir = '.\\data'\n",
    "list = os.listdir(rootdir) #列出文件夹下所有的目录与文件\n",
    "predicts = []\n",
    "datas = []\n",
    "for i in range(0,len(list)):\n",
    "    path = os.path.join(rootdir,list[i]) # 打印文件路径\n",
    "    predict,data = predict_name(r\"{}\".format(path)) # 传入手写的数字图片的地址\n",
    "    predicts.append(predict)\n",
    "    datas.append(data)"
   ]
  },
  {
   "cell_type": "markdown",
   "metadata": {},
   "source": [
    "* step3 展示预测结果"
   ]
  },
  {
   "cell_type": "code",
   "execution_count": 15,
   "metadata": {},
   "outputs": [
    {
     "data": {
      "image/png": "[encoded data removed]",
      "text/plain": [
       "<Figure size 432x288 with 5 Axes>"
      ]
     },
     "metadata": {
      "needs_background": "light"
     },
     "output_type": "display_data"
    }
   ],
   "source": [
    "for i in range(len(list)):\n",
    "    plt.subplot(3, 3, i+1) # 3行3列，第（i+1）个位置\n",
    "    plt.imshow(datas[i], cmap='gray', interpolation='none')\n",
    "    plt.title(\"Predict: {}\".format(predicts[i]))\n",
    "#     print(datas[i])\n",
    "plt.show()"
   ]
  }
 ],
 "metadata": {
  "interpreter": {
   "hash": "b1ef34f80ce686459573c8256749910355a06db4fc58a4da9539e14a0c012e1e"
  },
  "kernelspec": {
   "display_name": "Python 3.6.13 64-bit ('keras': conda)",
   "name": "python3"
  },
  "language_info": {
   "codemirror_mode": {
    "name": "ipython",
    "version": 3
   },
   "file_extension": ".py",
   "mimetype": "text/x-python",
   "name": "python",
   "nbconvert_exporter": "python",
   "pygments_lexer": "ipython3",
   "version": "3.6.13"
  }
 },
 "nbformat": 4,
 "nbformat_minor": 2
}
