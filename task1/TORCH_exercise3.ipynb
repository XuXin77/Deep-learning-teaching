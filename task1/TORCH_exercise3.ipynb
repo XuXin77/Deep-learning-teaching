{
 "cells": [
  {
   "cell_type": "markdown",
   "metadata": {},
   "source": [
    "   # TORCH_exercise3   "
   ]
  },
  {
   "cell_type": "markdown",
   "metadata": {},
   "source": [
    "* 头文件"
   ]
  },
  {
   "cell_type": "code",
   "execution_count": 2,
   "metadata": {},
   "outputs": [],
   "source": [
    "import numpy as np\n",
    "import torch.nn as nn\n",
    "import torchvision\n",
    "import torch\n",
    "from torchvision import datasets, transforms\n",
    "from torch.autograd import Variable\n",
    "import torch.optim as optim\n",
    "from torchvision import models\n",
    "from torchsummary import summary\n",
    "from matplotlib import pyplot as plt"
   ]
  },
  {
   "cell_type": "markdown",
   "metadata": {},
   "source": [
    "* 读取数据"
   ]
  },
  {
   "cell_type": "code",
   "execution_count": 3,
   "metadata": {},
   "outputs": [],
   "source": [
    "transform = transforms.Compose([transforms.ToTensor()])   #转张量，归一化\n",
    " \n",
    "#下载数据集\n",
    "data_train = datasets.MNIST(root = './data/MNIST',\n",
    "                            transform=transform,\n",
    "                            train = True,\n",
    "                            download = True)\n",
    " \n",
    "data_test = datasets.MNIST(root='./data/MNIST',\n",
    "                           transform = transform,\n",
    "                           train = False,\n",
    "                           download = True)\n",
    "\n",
    "\n",
    "#装载数据\n",
    "data_loader_train = torch.utils.data.DataLoader(dataset=data_train,\n",
    "                                                batch_size = 256,\n",
    "                                                shuffle = True)\n",
    " \n",
    "data_loader_test = torch.utils.data.DataLoader(dataset=data_test,\n",
    "                                               batch_size = 256,\n",
    "                                               shuffle = True)"
   ]
  },
  {
   "cell_type": "markdown",
   "metadata": {},
   "source": [
    "* 网络定义"
   ]
  },
  {
   "cell_type": "code",
   "execution_count": 4,
   "metadata": {},
   "outputs": [],
   "source": [
    "class modle(nn.Module):\n",
    "    def __init__(self):\n",
    "        super(modle, self).__init__()   #继承父类初始化\n",
    "        self.conv1 = nn.Sequential(\n",
    "            nn.BatchNorm2d(1,affine=True),     #批标准化，通道数为1\n",
    "            nn.Conv2d(in_channels=1, out_channels=64, kernel_size=3, stride=1, padding=1),#输入通道，输出通道（特征），卷积块尺寸，步长，是否补齐（为1是大小不变）\n",
    "            #输入1*28*28，输出64*28*28\n",
    "            nn.BatchNorm2d(64,affine=True),     #批标准化，通道数为64\n",
    "            nn.ReLU(),\n",
    "            nn.MaxPool2d(2, 2)                   #池化 输出64*14*14\n",
    "        )\n",
    "        \n",
    "        self.conv2 = nn.Sequential(\n",
    "            nn.Conv2d(in_channels=64, out_channels=32, kernel_size=3, stride=1, padding=1),#输入64*14*14，输出32*14*14\n",
    "            \n",
    "            nn.BatchNorm2d(32,affine=True),     #批标准化，通道数为32\n",
    "            nn.ReLU(),\n",
    "            nn.MaxPool2d(2, 2)                   #池化 输出32*7*7\n",
    "        )\n",
    "        \n",
    "        self.conv3 = nn.Sequential(\n",
    "            nn.Conv2d(in_channels=32, out_channels=16, kernel_size=3, stride=1, padding=1), #输入32*7*7，输出16*7*7\n",
    "\n",
    "            nn.BatchNorm2d(16,affine=True),     #批标准化，通道数为32\n",
    "            nn.ReLU(),\n",
    "            nn.MaxPool2d(2, 2)                   #池化 输出16*3*3\n",
    "        )\n",
    "        self.fc1 = nn.Sequential(\n",
    "            nn.Linear(16*3*3, 32),\n",
    "            nn.Dropout(0.2)\n",
    "        )\n",
    "        self.fc2 = nn.Sequential(\n",
    "            nn.Linear(32, 10),\n",
    "            nn.Softmax()\n",
    "        )\n",
    "\n",
    "\n",
    "    def forward(self,x):\n",
    "\n",
    "        #print(x.size()) \n",
    "        x = self.conv1(x)\n",
    "        #print(x.size())\n",
    "        x = self.conv2(x)\n",
    "        #print(x.size())\n",
    "        x = self.conv3(x)\n",
    "        #print(x.size())\n",
    "        x = x.view(x.size()[0], -1)   # view函数将张量x变形成一维向量形式，总特征数不变，为全连接层做准备\n",
    "        #print(x.size())\n",
    "        x = self.fc1(x)\n",
    "        x = self.fc2(x)\n",
    "        #x = x.squeeze(-1)\n",
    "        return x\n",
    "\n",
    "\n"
   ]
  },
  {
   "cell_type": "code",
   "execution_count": 9,
   "metadata": {},
   "outputs": [
    {
     "name": "stderr",
     "output_type": "stream",
     "text": [
      "C:\\Anaconda3\\lib\\site-packages\\torch\\nn\\modules\\container.py:141: UserWarning: Implicit dimension choice for softmax has been deprecated. Change the call to include dim=X as an argument.\n",
      "  input = module(input)\n"
     ]
    },
    {
     "name": "stdout",
     "output_type": "stream",
     "text": [
      "----------------------------------------------------------------\n",
      "        Layer (type)               Output Shape         Param #\n",
      "================================================================\n",
      "       BatchNorm2d-1            [-1, 1, 28, 28]               2\n",
      "            Conv2d-2           [-1, 64, 28, 28]             640\n",
      "       BatchNorm2d-3           [-1, 64, 28, 28]             128\n",
      "              ReLU-4           [-1, 64, 28, 28]               0\n",
      "         MaxPool2d-5           [-1, 64, 14, 14]               0\n",
      "            Conv2d-6           [-1, 32, 14, 14]          18,464\n",
      "       BatchNorm2d-7           [-1, 32, 14, 14]              64\n",
      "              ReLU-8           [-1, 32, 14, 14]               0\n",
      "         MaxPool2d-9             [-1, 32, 7, 7]               0\n",
      "           Conv2d-10             [-1, 16, 7, 7]           4,624\n",
      "      BatchNorm2d-11             [-1, 16, 7, 7]              32\n",
      "             ReLU-12             [-1, 16, 7, 7]               0\n",
      "        MaxPool2d-13             [-1, 16, 3, 3]               0\n",
      "           Linear-14                   [-1, 32]           4,640\n",
      "          Dropout-15                   [-1, 32]               0\n",
      "           Linear-16                   [-1, 10]             330\n",
      "          Softmax-17                   [-1, 10]               0\n",
      "================================================================\n",
      "Total params: 28,924\n",
      "Trainable params: 28,924\n",
      "Non-trainable params: 0\n",
      "----------------------------------------------------------------\n",
      "Input size (MB): 0.00\n",
      "Forward/backward pass size (MB): 1.43\n",
      "Params size (MB): 0.11\n",
      "Estimated Total Size (MB): 1.54\n",
      "----------------------------------------------------------------\n",
      "批训练损失： 0.0075347307960192365\n",
      "批训练损失： 0.006671840631961822\n",
      "批训练损失： 0.006142025599877039\n",
      "批训练损失： 0.005973719129959742\n",
      "批训练损失： 0.005904301738739013\n",
      "批训练损失： 0.005865758466720581\n",
      "批训练损失： 0.005842941830555598\n",
      "批训练损失： 0.005826297785838445\n",
      "批训练损失： 0.005814519302050273\n",
      "批训练损失： 0.005806005332867304\n"
     ]
    }
   ],
   "source": [
    "if __name__ == \"__main__\":   \n",
    "    device = torch.device('cuda:0')\n",
    "    mymodel = modle().to(device)\n",
    "    summary(mymodel, (1, 28, 28))    #显示模型结构\n",
    "    epochs = 10\n",
    "   # Loss and optimizer\n",
    "    cost = torch.nn.CrossEntropyLoss()\n",
    "    #optimizer = torch.optim.Adam(model.parameters(), lr=learning_rate)\n",
    "    optimizer = torch.optim.RMSprop(mymodel.parameters(),lr=0.0001,alpha=0.99,eps=1e-08,weight_decay=0,momentum=0,\n",
    "                                    centered=False)\n",
    "    eval_ = {'cost': []}\n",
    "    train_correct=0\n",
    "    for epoch in range(epochs):\n",
    "        sum_loss=0\n",
    "        n = 0\n",
    "        for data in data_loader_train:\n",
    "            inputs,labels=data                     #inputs 维度\n",
    "            inputs = inputs.to(device)\n",
    "            labels = labels.to(device)\n",
    "            outputs = mymodel(inputs).to(device)              #得到预测值   \n",
    "            \n",
    "            loss = cost(outputs,labels).sum()#.to(device)    #数据集损失函数的值=每个样本的损失函数值的和。  \n",
    "            optimizer.zero_grad()                  #对优化函数梯度清零\n",
    "            loss.backward()                         # 计算损失对于各个参数的梯度\n",
    "            optimizer.step()                       # 执行单步优化操作：更新参数\n",
    "            sum_loss+=loss.item()\n",
    "            n += labels.shape[0]\n",
    "        print('批训练损失：',sum_loss / n)\n",
    "        eval_['cost'].append(sum_loss / n)     #保存到字典\n",
    "        \n",
    "            # print(X.shape,y.shape) \n",
    "    mymodel.eval()\n",
    "    \n",
    "    #torch.save(model,\"mlp.pkl\")        #保存模型\n",
    "    torch.save(mymodel.state_dict(), 'LSTM.pth')  #保存模型参数"
   ]
  },
  {
   "cell_type": "markdown",
   "metadata": {},
   "source": [
    "* 绘制损失曲线"
   ]
  },
  {
   "cell_type": "code",
   "execution_count": 10,
   "metadata": {},
   "outputs": [
    {
     "data": {
      "image/png": "[encoded data removed]",
      "text/plain": [
       "<Figure size 432x288 with 1 Axes>"
      ]
     },
     "metadata": {},
     "output_type": "display_data"
    }
   ],
   "source": [
    "    plt.plot(range(epochs), eval_['cost'])\n",
    "    plt.ylabel('Cost')\n",
    "    plt.xlabel('Epochs')\n",
    "    # plt.savefig('images/05_03.png', dpi=300)\n",
    "    plt.show()"
   ]
  },
  {
   "cell_type": "code",
   "execution_count": 28,
   "metadata": {},
   "outputs": [
    {
     "name": "stdout",
     "output_type": "stream",
     "text": [
      "true:7, predict:[7]\n"
     ]
    },
    {
     "name": "stderr",
     "output_type": "stream",
     "text": [
      "C:\\Anaconda3\\lib\\site-packages\\torch\\nn\\modules\\container.py:141: UserWarning: Implicit dimension choice for softmax has been deprecated. Change the call to include dim=X as an argument.\n",
      "  input = module(input)\n"
     ]
    },
    {
     "data": {
      "image/png": "[encoded data removed]",
      "text/plain": [
       "<Figure size 432x288 with 1 Axes>"
      ]
     },
     "metadata": {},
     "output_type": "display_data"
    }
   ],
   "source": [
    "    img, label = data_test[0]\n",
    "    inputs = img.unsqueeze(0).to(device)\n",
    "    labels = label#.to(device)\n",
    "    outputs = mymodel(inputs).to(device)              #得到预测值\n",
    "    plt.imshow(img.squeeze(0))\n",
    "    output = torch.argmax(outputs,1)\n",
    "    print(f\"true:{labels}, predict:{output.cuda().cpu().numpy()}\")"
   ]
  },
  {
   "cell_type": "code",
   "execution_count": null,
   "metadata": {},
   "outputs": [],
   "source": []
  }
 ],
 "metadata": {
  "kernelspec": {
   "display_name": "Python 3",
   "language": "python",
   "name": "python3"
  },
  "language_info": {
   "codemirror_mode": {
    "name": "ipython",
    "version": 3
   },
   "file_extension": ".py",
   "mimetype": "text/x-python",
   "name": "python",
   "nbconvert_exporter": "python",
   "pygments_lexer": "ipython3",
   "version": "3.6.5"
  }
 },
 "nbformat": 4,
 "nbformat_minor": 2
}
