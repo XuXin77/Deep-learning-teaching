{
 "cells": [
  {
   "cell_type": "markdown",
   "metadata": {},
   "source": [
    "# Exercise3 MINIST CLASSIFICATION USING CONV2D"
   ]
  },
  {
   "cell_type": "code",
   "execution_count": 1,
   "metadata": {},
   "outputs": [
    {
     "name": "stderr",
     "output_type": "stream",
     "text": [
      "Using TensorFlow backend.\n"
     ]
    }
   ],
   "source": [
    "import numpy as np\n",
    "from keras.datasets import mnist\n",
    "from keras.utils.np_utils import to_categorical\n",
    "from keras.models import Sequential\n",
    "from keras.layers import Dense, Activation,Conv2D,Input,MaxPooling2D,Dropout,Flatten,BatchNormalization\n",
    "from keras.models import Model\n",
    "from keras.optimizers import RMSprop\n",
    "from matplotlib import pyplot as plt\n",
    "import os \n",
    "# os.environ['TF_FORCE_GPU_ALLOW_GROWTH']='True'\n",
    "# os.environ['CUDA_VISIBLE_DEVICES'] = '1'"
   ]
  },
  {
   "cell_type": "code",
   "execution_count": 2,
   "metadata": {},
   "outputs": [
    {
     "name": "stdout",
     "output_type": "stream",
     "text": [
      "(60000, 28, 28)\n"
     ]
    }
   ],
   "source": [
    "(X_train, y_train), (X_test, y_test) = mnist.load_data()\n",
    "print(X_train.shape)"
   ]
  },
  {
   "cell_type": "code",
   "execution_count": 3,
   "metadata": {
    "collapsed": true
   },
   "outputs": [
    {
     "name": "stdout",
     "output_type": "stream",
     "text": [
      "(60000, 28, 28, 1) (60000, 10)\n"
     ]
    }
   ],
   "source": [
    "# data pre-processing\n",
    "X_train = np.expand_dims(X_train,axis=-1) / 255.   # normalize\n",
    "X_test = np.expand_dims(X_test,axis=-1)/ 255.      # normalize\n",
    "\n",
    "y_train = to_categorical(y_train, num_classes=10)\n",
    "y_test = to_categorical(y_test, num_classes=10)\n",
    "\n",
    "print(X_train.shape,y_train.shape)"
   ]
  },
  {
   "cell_type": "code",
   "execution_count": 4,
   "metadata": {
    "collapsed": true
   },
   "outputs": [
    {
     "name": "stdout",
     "output_type": "stream",
     "text": [
      "_________________________________________________________________\n",
      "Layer (type)                 Output Shape              Param #   \n",
      "=================================================================\n",
      "batch_normalization_1 (Batch (None, 28, 28, 1)         4         \n",
      "_________________________________________________________________\n",
      "conv2d_1 (Conv2D)            (None, 28, 28, 64)        1664      \n",
      "_________________________________________________________________\n",
      "batch_normalization_2 (Batch (None, 28, 28, 64)        256       \n",
      "_________________________________________________________________\n",
      "activation_1 (Activation)    (None, 28, 28, 64)        0         \n",
      "_________________________________________________________________\n",
      "max_pooling2d_1 (MaxPooling2 (None, 14, 14, 64)        0         \n",
      "_________________________________________________________________\n",
      "conv2d_2 (Conv2D)            (None, 14, 14, 32)        18464     \n",
      "_________________________________________________________________\n",
      "batch_normalization_3 (Batch (None, 14, 14, 32)        128       \n",
      "_________________________________________________________________\n",
      "activation_2 (Activation)    (None, 14, 14, 32)        0         \n",
      "_________________________________________________________________\n",
      "max_pooling2d_2 (MaxPooling2 (None, 7, 7, 32)          0         \n",
      "_________________________________________________________________\n",
      "conv2d_3 (Conv2D)            (None, 7, 7, 16)          4624      \n",
      "_________________________________________________________________\n",
      "batch_normalization_4 (Batch (None, 7, 7, 16)          64        \n",
      "_________________________________________________________________\n",
      "activation_3 (Activation)    (None, 7, 7, 16)          0         \n",
      "_________________________________________________________________\n",
      "max_pooling2d_3 (MaxPooling2 (None, 3, 3, 16)          0         \n",
      "_________________________________________________________________\n",
      "flatten_1 (Flatten)          (None, 144)               0         \n",
      "_________________________________________________________________\n",
      "dense_1 (Dense)              (None, 32)                4640      \n",
      "_________________________________________________________________\n",
      "dropout_1 (Dropout)          (None, 32)                0         \n",
      "_________________________________________________________________\n",
      "dense_2 (Dense)              (None, 10)                330       \n",
      "_________________________________________________________________\n",
      "activation_4 (Activation)    (None, 10)                0         \n",
      "=================================================================\n",
      "Total params: 30,174\n",
      "Trainable params: 29,948\n",
      "Non-trainable params: 226\n",
      "_________________________________________________________________\n"
     ]
    }
   ],
   "source": [
    "# model-sequential\n",
    "model = Sequential()\n",
    "input_size=(28,28)\n",
    "# model.add(Input(shape=input_size))\n",
    "model.add(BatchNormalization(input_shape=(28,28,1)))\n",
    "\n",
    "model.add(Conv2D(64,(5,5),padding='same',data_format='channels_last')) \n",
    "model.add(BatchNormalization())\n",
    "model.add(Activation('relu'))\n",
    "model.add(MaxPooling2D(pool_size=2,strides=2))\n",
    "\n",
    "model.add(Conv2D(32,(3,3),padding='same',data_format='channels_last')) \n",
    "model.add(BatchNormalization())\n",
    "model.add(Activation('relu'))\n",
    "model.add(MaxPooling2D(pool_size=2,strides=2))\n",
    "\n",
    "model.add(Conv2D(16,(3,3),padding='same',data_format='channels_last')) \n",
    "model.add(BatchNormalization())\n",
    "model.add(Activation('relu'))\n",
    "model.add(MaxPooling2D(pool_size=2,strides=2))\n",
    "model.add(Flatten())\n",
    "model.add(Dense(32))\n",
    "model.add(Dropout(0.2))\n",
    "model.add(Dense(10))\n",
    "model.add(Activation('softmax'))\n",
    "model.summary()"
   ]
  },
  {
   "cell_type": "code",
   "execution_count": 5,
   "metadata": {
    "collapsed": true
   },
   "outputs": [],
   "source": [
    "# Another way to define your optimizer\n",
    "rmsprop = RMSprop(lr=0.0001, rho=0.9, epsilon=1e-08, decay=0.0)\n",
    "# We add metrics to get more results you want to see\n",
    "model.compile(optimizer=rmsprop,loss='categorical_crossentropy',metrics=['accuracy'])"
   ]
  },
  {
   "cell_type": "code",
   "execution_count": 6,
   "metadata": {},
   "outputs": [
    {
     "name": "stdout",
     "output_type": "stream",
     "text": [
      "Training ------------\n",
      "Train on 60000 samples, validate on 10000 samples\n",
      "Epoch 1/10\n",
      "60000/60000 [==============================] - 12s 202us/step - loss: 0.6435 - acc: 0.8160 - val_loss: 0.1481 - val_acc: 0.9599\n",
      "Epoch 2/10\n",
      "60000/60000 [==============================] - 7s 122us/step - loss: 0.1470 - acc: 0.9594 - val_loss: 0.0754 - val_acc: 0.9783\n",
      "Epoch 3/10\n",
      "60000/60000 [==============================] - 7s 121us/step - loss: 0.0979 - acc: 0.9717 - val_loss: 0.0590 - val_acc: 0.9818\n",
      "Epoch 4/10\n",
      "60000/60000 [==============================] - 8s 125us/step - loss: 0.0772 - acc: 0.9772 - val_loss: 0.0530 - val_acc: 0.9830\n",
      "Epoch 5/10\n",
      "60000/60000 [==============================] - 8s 130us/step - loss: 0.0631 - acc: 0.9814 - val_loss: 0.0442 - val_acc: 0.9849\n",
      "Epoch 6/10\n",
      "60000/60000 [==============================] - 8s 132us/step - loss: 0.0543 - acc: 0.9842 - val_loss: 0.0420 - val_acc: 0.9866\n",
      "Epoch 7/10\n",
      "60000/60000 [==============================] - 8s 132us/step - loss: 0.0489 - acc: 0.9849 - val_loss: 0.0394 - val_acc: 0.9874\n",
      "Epoch 8/10\n",
      "60000/60000 [==============================] - 8s 136us/step - loss: 0.0438 - acc: 0.9869 - val_loss: 0.0375 - val_acc: 0.9879\n",
      "Epoch 9/10\n",
      "60000/60000 [==============================] - 8s 137us/step - loss: 0.0391 - acc: 0.9885 - val_loss: 0.0364 - val_acc: 0.9892\n",
      "Epoch 10/10\n",
      "60000/60000 [==============================] - 8s 139us/step - loss: 0.0354 - acc: 0.9890 - val_loss: 0.0341 - val_acc: 0.9899\n"
     ]
    },
    {
     "data": {
      "text/plain": [
       "<keras.callbacks.History at 0x1ffa69bccf8>"
      ]
     },
     "execution_count": 6,
     "metadata": {},
     "output_type": "execute_result"
    }
   ],
   "source": [
    "print('Training ------------')\n",
    "# Another way to train the model\n",
    "model.fit(X_train, y_train, epochs=10, verbose=1, shuffle=True,batch_size=256,validation_data=(X_test,y_test))"
   ]
  },
  {
   "cell_type": "code",
   "execution_count": 9,
   "metadata": {},
   "outputs": [
    {
     "name": "stdout",
     "output_type": "stream",
     "text": [
      "(100, 10)\n",
      "[[  0.   0.   0.   0.   0.   0.   0. 100.   0.   0.]] 7\n"
     ]
    },
    {
     "data": {
      "image/png": "[encoded data removed]",
      "text/plain": [
       "<Figure size 432x288 with 1 Axes>"
      ]
     },
     "metadata": {
      "needs_background": "light"
     },
     "output_type": "display_data"
    }
   ],
   "source": [
    "# test the model \n",
    "testdata=X_test[:100]\n",
    "# get the probability value\n",
    "pred=model.predict(testdata,batch_size=20)\n",
    "# get the classification value\n",
    "pred_c=np.argmax(pred,axis=1)\n",
    "# pred_c=model.predict_classes(testdata,batch_size=20)\n",
    "print(pred.shape)\n",
    "reshapedata=testdata.reshape(100,28,28)\n",
    "plt.imshow(reshapedata[0,:,:])\n",
    "print(np.round(pred[:1]*100),pred_c[0])"
   ]
  },
  {
   "cell_type": "markdown",
   "metadata": {
    "collapsed": true
   },
   "source": [
    "* setp5保存模型"
   ]
  },
  {
   "cell_type": "code",
   "execution_count": 8,
   "metadata": {},
   "outputs": [],
   "source": [
    "model.save('./mnist.h5')"
   ]
  },
  {
   "cell_type": "markdown",
   "metadata": {},
   "source": []
  }
 ],
 "metadata": {
  "interpreter": {
   "hash": "31d0fa4dce9101ea3372abd8d21015892e1946d43fb50e1624d34ce9086c9ea2"
  },
  "kernelspec": {
   "display_name": "Python 3.6.12 64-bit ('py36': conda)",
   "name": "python3"
  },
  "language_info": {
   "codemirror_mode": {
    "name": "ipython",
    "version": 3
   },
   "file_extension": ".py",
   "mimetype": "text/x-python",
   "name": "python",
   "nbconvert_exporter": "python",
   "pygments_lexer": "ipython3",
   "version": "3.6.12"
  }
 },
 "nbformat": 4,
 "nbformat_minor": 2
}
