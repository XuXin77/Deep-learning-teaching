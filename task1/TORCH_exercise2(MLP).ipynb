{
 "cells": [
  {
   "cell_type": "markdown",
   "metadata": {},
   "source": [
    "# Build a Simple Neural Network "
   ]
  },
  {
   "cell_type": "markdown",
   "metadata": {},
   "source": [
    "多层感知机（multilayer perceptron, MLP) 在单层神经网络的基础上引入了一到多个隐藏层（hidden layer）。隐藏层位于输入层和输出层之间。"
   ]
  },
  {
   "cell_type": "markdown",
   "metadata": {},
   "source": [
    "* 主要激活函数"
   ]
  },
  {
   "cell_type": "markdown",
   "metadata": {},
   "source": [
    "ReLU函数 sigmoid函数  tanh函数 [链接：](https://blog.csdn.net/weixin_44613063/article/details/90240900?ops_request_misc=%257B%2522request%255Fid%2522%253A%2522165188424216782388033085%2522%252C%2522scm%2522%253A%252220140713.130102334.pc%255Fall.%2522%257D&request_id=165188424216782388033085&biz_id=0&utm_medium=distribute.pc_search_result.none-task-blog-2~all~first_rank_ecpm_v1~rank_v31_ecpm-1-90240900-null-null.142^v9^pc_search_result_cache,157^v4^control&utm_term=torch%E6%BF%80%E6%B4%BB%E5%87%BD%E6%95%B0&spm=1018.2226.3001.4187)"
   ]
  },
  {
   "cell_type": "code",
   "execution_count": 2,
   "metadata": {},
   "outputs": [
    {
     "data": {
      "image/png": "[encoded data removed]",
      "text/plain": [
       "<matplotlib.figure.Figure at 0x252208c7748>"
      ]
     },
     "metadata": {},
     "output_type": "display_data"
    }
   ],
   "source": [
    "%matplotlib inline\n",
    "import numpy as np\n",
    "import torch\n",
    "import torch.nn as nn\n",
    "import matplotlib.pyplot as plt\n",
    "\n",
    "x=torch.linspace(-6,6,100)\n",
    "sigmoid=nn.Sigmoid()    #Sigmoid激活函数;\n",
    "ysigmoid=sigmoid(x)\n",
    "tanh=nn.Tanh()          #Tanh激活函数\n",
    "ytanh=tanh(x)\n",
    "relu=nn.ReLU()          #ReLU激活函数\n",
    "yrelu=relu(x)\n",
    "softplus=nn.Softplus()  #Softplus激活函数\n",
    "ysoftplus=softplus(x)\n",
    "\n",
    "\n",
    "plt.figure(figsize=(14,3))\n",
    "plt.subplot(1,4,1)\n",
    "plt.plot(x.data.numpy(),ysigmoid.data.numpy(),\"-r\")\n",
    "plt.title(\"Sigmoid\")\n",
    "plt.grid()\n",
    "plt.subplot(1,4,2)\n",
    "plt.plot(x.data.numpy(),ytanh.data.numpy(),\"-r\")\n",
    "plt.title(\"Tanh\")\n",
    "plt.grid()\n",
    "plt.subplot(1,4,3)\n",
    "plt.plot(x.data.numpy(),yrelu.data.numpy(),\"-r\")\n",
    "plt.title(\"Relu\")\n",
    "plt.grid()\n",
    "plt.subplot(1,4,4)\n",
    "plt.plot(x.data.numpy(),ysoftplus.data.numpy(),\"-r\")\n",
    "plt.title(\"Softplus\")\n",
    "plt.grid()\n",
    "plt.show()"
   ]
  },
  {
   "cell_type": "markdown",
   "metadata": {},
   "source": [
    "* 定义网络"
   ]
  },
  {
   "cell_type": "code",
   "execution_count": 3,
   "metadata": {},
   "outputs": [],
   "source": [
    "class MLP(nn.Module):\n",
    "    def __init__(self,k_in,k_h,k_out):\n",
    "        super(MLP,self).__init__()\n",
    "        self.fc1 = torch.nn.Linear(k_in,k_h)\n",
    "        self.fc2 = torch.nn.Linear(k_h,k_out)\n",
    "        self.sd = torch.nn.Sigmoid()\n",
    "        \n",
    "    def forward(self,x):\n",
    "        x = self.fc1(x)                   # n*k_in -> n*k_h\n",
    "        x = self.sd(x)                    # 激活\n",
    "        x = self.fc2(x)                   # n*k_h -> n*k_out\n",
    "        x = self.sd(x)                    # 激活\n",
    "        x = x.squeeze(-1)                 # 去除多余维度\n",
    "        return x\n",
    "    \n"
   ]
  },
  {
   "cell_type": "markdown",
   "metadata": {},
   "source": [
    "* 训练"
   ]
  },
  {
   "cell_type": "code",
   "execution_count": 4,
   "metadata": {},
   "outputs": [],
   "source": [
    "def train(k_in, k_h, k_out,batch_size,lr,epochs):\n",
    "    eval_ = {'cost': []}                             #损失字典\n",
    "    model = MLP(k_in,k_h,k_out)\n",
    "    print(model)                                     #显示结构\n",
    "    cost = torch.nn.CrossEntropyLoss()               #损失函数\n",
    "    optimizer = torch.optim.Adam(model.parameters()) #优化函数\n",
    "    #装载数据\n",
    "    data_loader_train = torch.utils.data.DataLoader(dataset=data_train,\n",
    "                                                    batch_size = batch_size,\n",
    "                                                    shuffle = True)\n",
    "    \n",
    "    train_correct=0\n",
    "    for epoch in range(epochs):\n",
    "        sum_loss=0\n",
    "        n = 0\n",
    "        for data in data_loader_train:\n",
    "            inputs,labels=data                       #inputs 维度：[64,1,28,28]\n",
    "            inputs=torch.flatten(inputs,start_dim=1) #展平数据，转化为[64,784]\n",
    "            outputs = model(inputs)              #得到预测值   \n",
    "            #loss=cost(outputs,labels)            #计算损失 \n",
    "            loss = cost(outputs,labels).sum()    #数据集损失函数的值=每个样本的损失函数值的和。  \n",
    "            optimizer.zero_grad()                #对优化函数梯度清零\n",
    "            loss.backward()                      # 计算损失对于各个参数的梯度\n",
    "            optimizer.step()                     # 执行单步优化操作：更新参数\n",
    "            sum_loss+=loss.item()\n",
    "            n += labels.shape[0]\n",
    "        print('批训练损失：',sum_loss / n)\n",
    "        eval_['cost'].append(sum_loss / n)     #保存到字典\n",
    "        \n",
    "            # print(X.shape,y.shape) \n",
    "    model.eval()\n",
    "    #torch.save(model,\"mlp.pkl\")        #保存模型\n",
    "    torch.save(model.state_dict(), 'net_params.pth')  #保存模型参数\n",
    "    \n",
    "    return eval_\n",
    "    "
   ]
  },
  {
   "cell_type": "markdown",
   "metadata": {},
   "source": [
    "* 测试"
   ]
  },
  {
   "cell_type": "code",
   "execution_count": 5,
   "metadata": {},
   "outputs": [],
   "source": [
    "def test(batch_size):\n",
    "    \n",
    "    test_correct = 0\n",
    "    state_dict = torch.load('net_params.pth')         #读取模型参数\n",
    "    model = MLP(k_in,k_h,k_out)                       #定义模型\n",
    "    model.load_state_dict(state_dict)                 #读入参数\n",
    "#     inputs, lables = data_test\n",
    "#     outputs = model(inputs)\n",
    "#     COF_ts = np.corrcoef(outputs.data, lables.data, rowvar=False)[0, 1]\n",
    "    #装载数据\n",
    "    data_loader_test = torch.utils.data.DataLoader(dataset=data_test,\n",
    "                                                    batch_size = batch_size,\n",
    "                                                    shuffle = True)\n",
    "    \n",
    "    for data in data_loader_test :\n",
    "        inputs, lables = data\n",
    "        inputs, lables = Variable(inputs).cpu(), Variable(lables).cpu()\n",
    "        inputs=torch.flatten(inputs,start_dim=1)       #展并数据\n",
    "        outputs = model(inputs)\n",
    "        _, id = torch.max(outputs.data, 1)\n",
    "        test_correct += torch.sum(id == lables.data)\n",
    "    print(\"correct:%.3f%%\" % (100 * test_correct / len(data_test )))"
   ]
  },
  {
   "cell_type": "markdown",
   "metadata": {},
   "source": [
    "* 绘图"
   ]
  },
  {
   "cell_type": "code",
   "execution_count": 6,
   "metadata": {},
   "outputs": [],
   "source": [
    "def plotfunc(epochs,eval_):\n",
    "    plt.plot(range(epochs), eval_['cost'])\n",
    "    plt.ylabel('Cost')\n",
    "    plt.xlabel('Epochs')\n",
    "    # plt.savefig('images/05_03.png', dpi=300)\n",
    "    plt.show()"
   ]
  },
  {
   "cell_type": "markdown",
   "metadata": {},
   "source": [
    "* 头文件"
   ]
  },
  {
   "cell_type": "code",
   "execution_count": 7,
   "metadata": {},
   "outputs": [],
   "source": [
    "import torchvision\n",
    "import torch\n",
    "from torchvision import datasets, transforms\n",
    "from torch.autograd import Variable\n",
    "import torch.optim as optim\n",
    "from matplotlib import pyplot as plt\n",
    "\n"
   ]
  },
  {
   "cell_type": "markdown",
   "metadata": {},
   "source": [
    "* 读取数据"
   ]
  },
  {
   "cell_type": "code",
   "execution_count": 8,
   "metadata": {},
   "outputs": [],
   "source": [
    "# transform = transforms.Compose([transforms.ToTensor(),\n",
    "#                                transforms.Normalize((0.5,),(0.5,))])      #数据转张量，预处理至（-1,1）\n",
    "\n",
    "transform = transforms.Compose([transforms.ToTensor()])      #数据转张量，预处理至（0,1）\n",
    "\n",
    "#读取数据集\n",
    "data_train = datasets.MNIST(root = './data/MNIST', #保存位置\n",
    "                            transform=transform,\n",
    "                            train = True,\n",
    "                            download = False)\n",
    " \n",
    "data_test = datasets.MNIST(root='./data/MNIST', #保存位置\n",
    "                           transform = transform,\n",
    "                           train = False,\n",
    "                           download = False)\n",
    "\n",
    "\n"
   ]
  },
  {
   "cell_type": "markdown",
   "metadata": {},
   "source": [
    "* 运行"
   ]
  },
  {
   "cell_type": "code",
   "execution_count": 9,
   "metadata": {},
   "outputs": [
    {
     "name": "stdout",
     "output_type": "stream",
     "text": [
      "MLP(\n",
      "  (fc1): Linear(in_features=784, out_features=500, bias=True)\n",
      "  (fc2): Linear(in_features=500, out_features=10, bias=True)\n",
      "  (sd): Sigmoid()\n",
      ")\n",
      "批训练损失： 0.008598619719346364\n",
      "批训练损失： 0.007828930485248565\n",
      "批训练损失： 0.007710126008590062\n",
      "批训练损失： 0.007646531365315119\n",
      "批训练损失： 0.007603734894593556\n",
      "批训练损失： 0.007570012017091115\n",
      "批训练损失： 0.007544546969731648\n",
      "批训练损失： 0.007524118063847224\n",
      "批训练损失： 0.0075048632462819415\n",
      "批训练损失： 0.007489470567305883\n"
     ]
    },
    {
     "data": {
      "image/png": "[encoded data removed]",
      "text/plain": [
       "<matplotlib.figure.Figure at 0x2521acac7b8>"
      ]
     },
     "metadata": {},
     "output_type": "display_data"
    },
    {
     "name": "stdout",
     "output_type": "stream",
     "text": [
      "correct:95.770%\n"
     ]
    }
   ],
   "source": [
    "if __name__ == '__main__':\n",
    "    k_in=784\n",
    "    k_h=500\n",
    "    k_out=10\n",
    "    batch_size=200\n",
    "    epochs=10\n",
    "    lr=0.5\n",
    "    eval_=train(k_in,k_h,k_out,batch_size,lr,epochs)\n",
    "    plotfunc(epochs,eval_)\n",
    "    test(batch_size)"
   ]
  },
  {
   "cell_type": "code",
   "execution_count": null,
   "metadata": {},
   "outputs": [],
   "source": []
  }
 ],
 "metadata": {
  "kernelspec": {
   "display_name": "Python 3",
   "language": "python",
   "name": "python3"
  },
  "language_info": {
   "codemirror_mode": {
    "name": "ipython",
    "version": 3
   },
   "file_extension": ".py",
   "mimetype": "text/x-python",
   "name": "python",
   "nbconvert_exporter": "python",
   "pygments_lexer": "ipython3",
   "version": "3.6.5"
  }
 },
 "nbformat": 4,
 "nbformat_minor": 2
}
